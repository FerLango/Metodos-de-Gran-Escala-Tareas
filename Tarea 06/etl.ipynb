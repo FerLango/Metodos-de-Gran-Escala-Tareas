{
 "cells": [
  {
   "cell_type": "markdown",
   "metadata": {},
   "source": [
    "# ETL\n",
    "\n",
    "Este notebook realiza la:\n",
    "1. **Extracción:** de los datos de la API de Banxico e INEGI.\n",
    "2. **Transformación:** utilizando DatFrames de Pandas.\n",
    "3. **Carga:** a un bucket de AWS S3."
   ]
  },
  {
   "cell_type": "markdown",
   "metadata": {},
   "source": [
    "## Librerías"
   ]
  },
  {
   "cell_type": "code",
   "execution_count": 4,
   "metadata": {},
   "outputs": [],
   "source": [
    "import yaml\n",
    "import requests\n",
    "import json\n",
    "import pandas as pd\n",
    "import boto3\n",
    "from botocore.exceptions import ClientError\n",
    "from io import StringIO"
   ]
  },
  {
   "cell_type": "markdown",
   "metadata": {},
   "source": [
    "## Importa parámetros de configuración\n",
    "\n",
    "Tokens generados en:\n",
    "- Banxico: https://www.banxico.org.mx/SieAPIRest/service/v1/token\n",
    "- INEGI: https://www.inegi.org.mx/app/api/denue/v1/tokenVerify.aspx"
   ]
  },
  {
   "cell_type": "code",
   "execution_count": 5,
   "metadata": {},
   "outputs": [],
   "source": [
    "with open('config.yaml') as f:\n",
    "    config = yaml.safe_load(f)\n",
    "    \n",
    "BANXICO_API_TOKEN = config[\"banxico\"][\"token\"]\n",
    "INEGI_API_TOKEN = config[\"inegi\"][\"token\"]\n",
    "BUCKET_NAME = config[\"aws\"][\"bucket_name\"]\n",
    "DATABASE_NAME = config[\"aws\"][\"database_name\"]"
   ]
  },
  {
   "cell_type": "markdown",
   "metadata": {},
   "source": [
    "## Extrae datos Banxico"
   ]
  },
  {
   "cell_type": "markdown",
   "metadata": {},
   "source": [
    "Definimos las series de tiempo que queremos extraer de la API de Banxico."
   ]
  },
  {
   "cell_type": "code",
   "execution_count": 6,
   "metadata": {},
   "outputs": [],
   "source": [
    "serie_tipo_cambio = \"SF43718\"\n",
    "serie_tasa_interes = \"SF61745\""
   ]
  },
  {
   "cell_type": "markdown",
   "metadata": {},
   "source": [
    "Extraemos la metadata de las series de tiempo."
   ]
  },
  {
   "cell_type": "code",
   "execution_count": 7,
   "metadata": {},
   "outputs": [
    {
     "name": "stdout",
     "output_type": "stream",
     "text": [
      "{\n",
      "  \"bmx\": {\n",
      "    \"series\": [\n",
      "      {\n",
      "        \"idSerie\": \"SF43718\",\n",
      "        \"titulo\": \"Tipo de cambio                                          Pesos por d\\u00f3lar E.U.A. Tipo de cambio para solventar obligaciones denominadas en moneda extranjera Fecha de determinaci\\u00f3n (FIX)\",\n",
      "        \"fechaInicio\": \"12/11/1991\",\n",
      "        \"fechaFin\": \"19/03/2025\",\n",
      "        \"periodicidad\": \"Diaria\",\n",
      "        \"cifra\": \"Tipo de Cambio\",\n",
      "        \"unidad\": \"Pesos por D\\u00f3lar\",\n",
      "        \"versionada\": false\n",
      "      },\n",
      "      {\n",
      "        \"idSerie\": \"SF61745\",\n",
      "        \"titulo\": \"Tasa objetivo\",\n",
      "        \"fechaInicio\": \"21/01/2008\",\n",
      "        \"fechaFin\": \"20/03/2025\",\n",
      "        \"periodicidad\": \"Diaria\",\n",
      "        \"cifra\": \"Porcentajes\",\n",
      "        \"unidad\": \"Sin Unidad\",\n",
      "        \"versionada\": false\n",
      "      }\n",
      "    ]\n",
      "  }\n",
      "}\n"
     ]
    }
   ],
   "source": [
    "url_banxico_metadata = f\"https://www.banxico.org.mx/SieAPIRest/service/v1/series/{serie_tipo_cambio},{serie_tasa_interes}?token={BANXICO_API_TOKEN}\"\n",
    "response_banxico_metadata = requests.get(url_banxico_metadata)\n",
    "\n",
    "if response_banxico_metadata.status_code == 200:\n",
    "    banxico_metadata = response_banxico_metadata.json()\n",
    "    print(json.dumps(banxico_metadata, indent=2))\n",
    "else:\n",
    "    print(f\"Error: {response_banxico_metadata.status_code} - {response_banxico_metadata.text}\")"
   ]
  },
  {
   "cell_type": "markdown",
   "metadata": {},
   "source": [
    "Extraemos los datos de la serie de tiempo"
   ]
  },
  {
   "cell_type": "code",
   "execution_count": 8,
   "metadata": {},
   "outputs": [
    {
     "name": "stdout",
     "output_type": "stream",
     "text": [
      "Extracción de datos exitosa\n"
     ]
    }
   ],
   "source": [
    "url_banxico_data = f\"https://www.banxico.org.mx/SieAPIRest/service/v1/series/{serie_tipo_cambio},{serie_tasa_interes}/datos?token={BANXICO_API_TOKEN}\"\n",
    "response_banxico_data = requests.get(url_banxico_data)\n",
    "\n",
    "if response_banxico_data.status_code == 200:\n",
    "    banxico_data = response_banxico_data.json()\n",
    "    print(\"Extracción de datos exitosa\")\n",
    "else:\n",
    "    print(f\"Error: {response_banxico_data.status_code} - {response_banxico_data.text}\")"
   ]
  },
  {
   "cell_type": "markdown",
   "metadata": {},
   "source": [
    "### Transformación de datos Banxico"
   ]
  },
  {
   "cell_type": "code",
   "execution_count": 9,
   "metadata": {},
   "outputs": [],
   "source": [
    "tipo_de_cambio = pd.DataFrame(next(item for item in banxico_data[\"bmx\"][\"series\"] if item[\"idSerie\"] == serie_tipo_cambio)[\"datos\"])\n",
    "tipo_de_cambio[\"fecha\"] = pd.to_datetime(tipo_de_cambio[\"fecha\"], dayfirst=True).dt.strftime(\"%Y-%m-%d\")\n",
    "tipo_de_cambio[\"dato\"] = tipo_de_cambio[\"dato\"].astype(float)\n",
    "tipo_de_cambio = tipo_de_cambio.rename(columns={\"fecha\": \"timestamp\", \"dato\": \"tipo_de_cambio\"})\n",
    "\n",
    "tasa_de_interes = pd.DataFrame(next(item for item in banxico_data[\"bmx\"][\"series\"] if item[\"idSerie\"] == serie_tasa_interes)[\"datos\"])\n",
    "tasa_de_interes[\"fecha\"] = pd.to_datetime(tasa_de_interes[\"fecha\"], dayfirst=True).dt.strftime(\"%Y-%m-%d\")\n",
    "tasa_de_interes[\"dato\"] = tasa_de_interes[\"dato\"].astype(float)\n",
    "tasa_de_interes = tasa_de_interes.rename(columns={\"fecha\": \"timestamp\", \"dato\": \"tasa_de_interes\"})"
   ]
  },
  {
   "cell_type": "code",
   "execution_count": 10,
   "metadata": {},
   "outputs": [
    {
     "name": "stdout",
     "output_type": "stream",
     "text": [
      "    timestamp  tipo_de_cambio\n",
      "0  1991-11-12          3.0735\n",
      "1  1991-11-13          3.0712\n",
      "2  1991-11-14          3.0718\n",
      "3  1991-11-15          3.0684\n",
      "4  1991-11-18          3.0673\n",
      "    timestamp  tasa_de_interes\n",
      "0  2008-01-21              7.5\n",
      "1  2008-01-22              7.5\n",
      "2  2008-01-23              7.5\n",
      "3  2008-01-24              7.5\n",
      "4  2008-01-25              7.5\n"
     ]
    }
   ],
   "source": [
    "print(tipo_de_cambio.head())\n",
    "print(tasa_de_interes.head())"
   ]
  },
  {
   "cell_type": "markdown",
   "metadata": {},
   "source": [
    "## Extrae datos INEGI"
   ]
  },
  {
   "cell_type": "markdown",
   "metadata": {},
   "source": [
    "Definimos las series de tiempo que queremos extraer de la API de INEGI."
   ]
  },
  {
   "cell_type": "code",
   "execution_count": 11,
   "metadata": {},
   "outputs": [],
   "source": [
    "serie_inflacion = \"910399\""
   ]
  },
  {
   "cell_type": "markdown",
   "metadata": {},
   "source": [
    "Extraemos la metadata de las series de tiempo."
   ]
  },
  {
   "cell_type": "code",
   "execution_count": 12,
   "metadata": {},
   "outputs": [
    {
     "name": "stdout",
     "output_type": "stream",
     "text": [
      "{\n",
      "  \"id\": \"CL_INDICATOR\",\n",
      "  \"agencyID\": \"INEGI\",\n",
      "  \"version\": \"1.0\",\n",
      "  \"lang\": \"es\",\n",
      "  \"CODE\": [\n",
      "    {\n",
      "      \"value\": \"910399\",\n",
      "      \"Description\": \"\\u00cdndice general\"\n",
      "    }\n",
      "  ]\n",
      "}\n"
     ]
    }
   ],
   "source": [
    "url_inegi_metadata = f\"https://www.inegi.org.mx/app/api/indicadores/desarrolladores/jsonxml/CL_INDICATOR/{serie_inflacion}/es/BIE/2.0/{INEGI_API_TOKEN}?type=json\"\n",
    "\n",
    "response_inegi_metadata = requests.get(url_inegi_metadata)\n",
    "\n",
    "if response_inegi_metadata.status_code == 200:\n",
    "    inegi_metadata = response_inegi_metadata.json()\n",
    "    print(json.dumps(inegi_metadata, indent=2))\n",
    "else:\n",
    "    print(f\"Error: {response_inegi_metadata.status_code} - {response_inegi_metadata.text}\")"
   ]
  },
  {
   "cell_type": "markdown",
   "metadata": {},
   "source": [
    "Extraemos los datos de la serie de tiempo"
   ]
  },
  {
   "cell_type": "code",
   "execution_count": 13,
   "metadata": {},
   "outputs": [
    {
     "name": "stdout",
     "output_type": "stream",
     "text": [
      "Extracción de datos exitosa\n"
     ]
    }
   ],
   "source": [
    "url_inegi_data = f\"https://www.inegi.org.mx/app/api/indicadores/desarrolladores/jsonxml/INDICATOR/{serie_inflacion}/es/0700/false/BIE/2.0/{INEGI_API_TOKEN}?type=json\"\n",
    "\n",
    "response_inegi_data = requests.get(url_inegi_data)\n",
    "\n",
    "if response_inegi_data.status_code == 200:\n",
    "    inegi_data = response_inegi_data.json()\n",
    "    print(\"Extracción de datos exitosa\")\n",
    "else:\n",
    "    print(f\"Error: {response_inegi_data.status_code} - {response_inegi_data.text}\")"
   ]
  },
  {
   "cell_type": "markdown",
   "metadata": {},
   "source": [
    "### Transformación de datos INEGI"
   ]
  },
  {
   "cell_type": "code",
   "execution_count": 14,
   "metadata": {},
   "outputs": [],
   "source": [
    "inflacion = pd.DataFrame(inegi_data[\"Series\"][0][\"OBSERVATIONS\"])\n",
    "\n",
    "inflacion[\"TIME_PERIOD\"] =  pd.to_datetime(inflacion[\"TIME_PERIOD\"], format=\"%Y/%m\").dt.strftime(\"%Y-%m-%d\")\n",
    "inflacion[\"OBS_VALUE\"] = pd.to_numeric(inflacion[\"OBS_VALUE\"], errors=\"coerce\")\n",
    "\n",
    "inflacion = inflacion[[\"TIME_PERIOD\", \"OBS_VALUE\"]].dropna()\n",
    "\n",
    "inflacion = inflacion.rename(columns={\"TIME_PERIOD\": \"timestamp\", \"OBS_VALUE\": \"inflacion\"})"
   ]
  },
  {
   "cell_type": "code",
   "execution_count": 15,
   "metadata": {},
   "outputs": [
    {
     "name": "stdout",
     "output_type": "stream",
     "text": [
      "    timestamp  inflacion\n",
      "0  2025-02-01       0.28\n",
      "1  2025-01-01       0.29\n",
      "2  2024-12-01       0.38\n",
      "3  2024-11-01       0.44\n",
      "4  2024-10-01       0.55\n"
     ]
    }
   ],
   "source": [
    "print(inflacion.head())"
   ]
  },
  {
   "cell_type": "markdown",
   "metadata": {},
   "source": [
    "## Carga de datos en AWS S3"
   ]
  },
  {
   "cell_type": "markdown",
   "metadata": {},
   "source": [
    "Abrimos un cliente de S3 y creamos el bucket donde guardaremos los datos."
   ]
  },
  {
   "cell_type": "code",
   "execution_count": 16,
   "metadata": {},
   "outputs": [
    {
     "name": "stdout",
     "output_type": "stream",
     "text": [
      "El bucket 'itam-analytics-ferlango' ya existe.\n"
     ]
    }
   ],
   "source": [
    "session = boto3.Session(profile_name='arquitectura')\n",
    "s3 = session.client('s3')\n",
    "\n",
    "try:\n",
    "    # Verifica si el bucket ya existe\n",
    "    s3.head_bucket(Bucket=BUCKET_NAME)\n",
    "    print(f\"El bucket '{BUCKET_NAME}' ya existe.\")\n",
    "except ClientError as e:\n",
    "    # Si el bucket no existe, lo crea\n",
    "    if e.response['Error']['Code'] == '404':\n",
    "        s3.create_bucket(Bucket=BUCKET_NAME)\n",
    "        print(f\"El bucket '{BUCKET_NAME}' ha sido creado.\")\n",
    "    else:\n",
    "        print(f\"Error al verificar o crear el bucket: {e}\")"
   ]
  },
  {
   "cell_type": "markdown",
   "metadata": {},
   "source": [
    "Cargamos los dataframes en memoria como archivos CSV para subirlos a S3."
   ]
  },
  {
   "cell_type": "code",
   "execution_count": 21,
   "metadata": {},
   "outputs": [],
   "source": [
    "def upload_df_to_s3(df, bucket, folder, file_name, extension):\n",
    "    \"\"\"\n",
    "    Sube un DataFrame a S3 en la ruta: {folder}/raw/{file_name}/{file_name}{extension}.\n",
    "    \n",
    "    Parámetros:\n",
    "      - df: DataFrame a subir.\n",
    "      - bucket: Nombre del bucket de S3.\n",
    "      - folder: Carpeta raíz (por ejemplo, el nombre de la base de datos, \"econ\").\n",
    "      - file_name: Nombre base del archivo (sin extensión).\n",
    "      - extension: Extensión del archivo, por ejemplo \".csv\".\n",
    "    \"\"\"\n",
    "    csv_buffer = StringIO()\n",
    "    df.to_csv(csv_buffer, index=False)\n",
    "    \n",
    "    key = f\"{folder}/raw/{file_name}/{file_name}{extension}\"\n",
    "    s3.put_object(Bucket=bucket, Key=key, Body=csv_buffer.getvalue().encode(\"utf-8\"))\n",
    "    print(f\"Archivo '{file_name}{extension}' subido a s3://{bucket}/{key}\")"
   ]
  },
  {
   "cell_type": "code",
   "execution_count": 22,
   "metadata": {},
   "outputs": [
    {
     "name": "stdout",
     "output_type": "stream",
     "text": [
      "Archivo 'tipo_de_cambio.csv' subido a s3://itam-analytics-ferlango/econ/raw/tipo_de_cambio/tipo_de_cambio.csv\n",
      "Archivo 'tasa_de_interes.csv' subido a s3://itam-analytics-ferlango/econ/raw/tasa_de_interes/tasa_de_interes.csv\n",
      "Archivo 'inflacion.csv' subido a s3://itam-analytics-ferlango/econ/raw/inflacion/inflacion.csv\n"
     ]
    }
   ],
   "source": [
    "upload_df_to_s3(tipo_de_cambio, BUCKET_NAME, DATABASE_NAME, \"tipo_de_cambio\", \".csv\")\n",
    "upload_df_to_s3(tasa_de_interes, BUCKET_NAME, DATABASE_NAME, \"tasa_de_interes\", \".csv\")\n",
    "upload_df_to_s3(inflacion, BUCKET_NAME, DATABASE_NAME, \"inflacion\", \".csv\")"
   ]
  }
 ],
 "metadata": {
  "kernelspec": {
   "display_name": "arquitectura",
   "language": "python",
   "name": "python3"
  },
  "language_info": {
   "codemirror_mode": {
    "name": "ipython",
    "version": 3
   },
   "file_extension": ".py",
   "mimetype": "text/x-python",
   "name": "python",
   "nbconvert_exporter": "python",
   "pygments_lexer": "ipython3",
   "version": "3.11.11"
  }
 },
 "nbformat": 4,
 "nbformat_minor": 2
}
